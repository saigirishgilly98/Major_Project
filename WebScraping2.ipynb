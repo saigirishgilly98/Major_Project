{
  "nbformat": 4,
  "nbformat_minor": 0,
  "metadata": {
    "colab": {
      "name": "WebScraping2.ipynb",
      "provenance": [],
      "collapsed_sections": [],
      "authorship_tag": "ABX9TyP/gCc9hTnX1XF7oarC/JZd",
      "include_colab_link": true
    },
    "kernelspec": {
      "name": "python3",
      "display_name": "Python 3"
    }
  },
  "cells": [
    {
      "cell_type": "markdown",
      "metadata": {
        "id": "view-in-github",
        "colab_type": "text"
      },
      "source": [
        "<a href=\"https://colab.research.google.com/github/saigirishgilly98/Major_Project/blob/main/WebScraping2.ipynb\" target=\"_parent\"><img src=\"https://colab.research.google.com/assets/colab-badge.svg\" alt=\"Open In Colab\"/></a>"
      ]
    },
    {
      "cell_type": "markdown",
      "metadata": {
        "id": "T2h7V81FohN4"
      },
      "source": [
        "Links to Scrape\r\n",
        "\r\n",
        "1) List of Jobs in India : https://www.payscale.com/research/IN/Job"
      ]
    },
    {
      "cell_type": "code",
      "metadata": {
        "id": "RXx0DIcLxH79",
        "colab": {
          "base_uri": "https://localhost:8080/"
        },
        "outputId": "5ceeace1-fb9c-4ac2-98db-3caa62e78c13"
      },
      "source": [
        "! pip install scrapy"
      ],
      "execution_count": 1,
      "outputs": [
        {
          "output_type": "stream",
          "text": [
            "Requirement already satisfied: scrapy in /usr/local/lib/python3.6/dist-packages (2.4.1)\n",
            "Requirement already satisfied: parsel>=1.5.0 in /usr/local/lib/python3.6/dist-packages (from scrapy) (1.6.0)\n",
            "Requirement already satisfied: protego>=0.1.15 in /usr/local/lib/python3.6/dist-packages (from scrapy) (0.1.16)\n",
            "Requirement already satisfied: itemadapter>=0.1.0 in /usr/local/lib/python3.6/dist-packages (from scrapy) (0.2.0)\n",
            "Requirement already satisfied: pyOpenSSL>=16.2.0 in /usr/local/lib/python3.6/dist-packages (from scrapy) (20.0.1)\n",
            "Requirement already satisfied: zope.interface>=4.1.3 in /usr/local/lib/python3.6/dist-packages (from scrapy) (5.2.0)\n",
            "Requirement already satisfied: service-identity>=16.0.0 in /usr/local/lib/python3.6/dist-packages (from scrapy) (18.1.0)\n",
            "Requirement already satisfied: lxml>=3.5.0; platform_python_implementation == \"CPython\" in /usr/local/lib/python3.6/dist-packages (from scrapy) (4.2.6)\n",
            "Requirement already satisfied: cssselect>=0.9.1 in /usr/local/lib/python3.6/dist-packages (from scrapy) (1.1.0)\n",
            "Requirement already satisfied: cryptography>=2.0 in /usr/local/lib/python3.6/dist-packages (from scrapy) (3.3.1)\n",
            "Requirement already satisfied: Twisted>=17.9.0 in /usr/local/lib/python3.6/dist-packages (from scrapy) (20.3.0)\n",
            "Requirement already satisfied: PyDispatcher>=2.0.5 in /usr/local/lib/python3.6/dist-packages (from scrapy) (2.0.5)\n",
            "Requirement already satisfied: w3lib>=1.17.0 in /usr/local/lib/python3.6/dist-packages (from scrapy) (1.22.0)\n",
            "Requirement already satisfied: queuelib>=1.4.2 in /usr/local/lib/python3.6/dist-packages (from scrapy) (1.5.0)\n",
            "Requirement already satisfied: itemloaders>=1.0.1 in /usr/local/lib/python3.6/dist-packages (from scrapy) (1.0.4)\n",
            "Requirement already satisfied: six>=1.6.0 in /usr/local/lib/python3.6/dist-packages (from parsel>=1.5.0->scrapy) (1.15.0)\n",
            "Requirement already satisfied: setuptools in /usr/local/lib/python3.6/dist-packages (from zope.interface>=4.1.3->scrapy) (51.3.3)\n",
            "Requirement already satisfied: attrs>=16.0.0 in /usr/local/lib/python3.6/dist-packages (from service-identity>=16.0.0->scrapy) (20.3.0)\n",
            "Requirement already satisfied: pyasn1-modules in /usr/local/lib/python3.6/dist-packages (from service-identity>=16.0.0->scrapy) (0.2.8)\n",
            "Requirement already satisfied: pyasn1 in /usr/local/lib/python3.6/dist-packages (from service-identity>=16.0.0->scrapy) (0.4.8)\n",
            "Requirement already satisfied: cffi>=1.12 in /usr/local/lib/python3.6/dist-packages (from cryptography>=2.0->scrapy) (1.14.4)\n",
            "Requirement already satisfied: Automat>=0.3.0 in /usr/local/lib/python3.6/dist-packages (from Twisted>=17.9.0->scrapy) (20.2.0)\n",
            "Requirement already satisfied: incremental>=16.10.1 in /usr/local/lib/python3.6/dist-packages (from Twisted>=17.9.0->scrapy) (17.5.0)\n",
            "Requirement already satisfied: constantly>=15.1 in /usr/local/lib/python3.6/dist-packages (from Twisted>=17.9.0->scrapy) (15.1.0)\n",
            "Requirement already satisfied: hyperlink>=17.1.1 in /usr/local/lib/python3.6/dist-packages (from Twisted>=17.9.0->scrapy) (21.0.0)\n",
            "Requirement already satisfied: PyHamcrest!=1.10.0,>=1.9.0 in /usr/local/lib/python3.6/dist-packages (from Twisted>=17.9.0->scrapy) (2.0.2)\n",
            "Requirement already satisfied: jmespath>=0.9.5 in /usr/local/lib/python3.6/dist-packages (from itemloaders>=1.0.1->scrapy) (0.10.0)\n",
            "Requirement already satisfied: pycparser in /usr/local/lib/python3.6/dist-packages (from cffi>=1.12->cryptography>=2.0->scrapy) (2.20)\n",
            "Requirement already satisfied: idna>=2.5 in /usr/local/lib/python3.6/dist-packages (from hyperlink>=17.1.1->Twisted>=17.9.0->scrapy) (2.10)\n"
          ],
          "name": "stdout"
        }
      ]
    },
    {
      "cell_type": "code",
      "metadata": {
        "id": "jh0go6vjsBwn"
      },
      "source": [
        "import scrapy\r\n",
        "from scrapy.crawler import CrawlerProcess"
      ],
      "execution_count": 2,
      "outputs": []
    },
    {
      "cell_type": "code",
      "metadata": {
        "id": "ITLYoFXxhs4q"
      },
      "source": [
        "import pandas as pd\r\n",
        "import csv"
      ],
      "execution_count": 3,
      "outputs": []
    },
    {
      "cell_type": "code",
      "metadata": {
        "colab": {
          "base_uri": "https://localhost:8080/"
        },
        "id": "EykAUTlHsPpz",
        "outputId": "f36e54c5-595e-4d6e-d4c7-922998174532"
      },
      "source": [
        "class Payscale_Spider(scrapy.Spider):\r\n",
        "    \r\n",
        "    name = 'payscale_spider'\r\n",
        "\r\n",
        "    def start_requests(self):\r\n",
        "\r\n",
        "        url = 'https://www.payscale.com/research/IN/Job'\r\n",
        "        yield scrapy.Request(url = url, callback = self.parse_industries)\r\n",
        "\r\n",
        "    \r\n",
        "    def parse_industries(self, response):\r\n",
        "\r\n",
        "        # Extract the industry links\r\n",
        "        industry_links = response.xpath('//a[@class = \"related-content-card\"]/@href').extract()\r\n",
        "        \r\n",
        "        # Extract the industry titles\r\n",
        "        industry_titles = response.xpath('//div[@class = \"related-content-card__title\"]/text()').extract()\r\n",
        "\r\n",
        "        # Crawling through each of the industries to fetch corresponding jobs\r\n",
        "        for industry_link in industry_links[:1]:\r\n",
        "            yield response.follow(url = 'https://www.payscale.com' + industry_link, callback = self.parse_jobs)\r\n",
        "\r\n",
        "    \r\n",
        "    def parse_jobs(self, response):\r\n",
        "\r\n",
        "        # Extract the job links\r\n",
        "        job_links = response.xpath('//a[@class = \"subcats__links__item\"]/@href').extract() \r\n",
        "        \r\n",
        "        # Extract the job titles\r\n",
        "        job_titles = response.xpath('//a[@class = \"subcats__links__item\"]/text()').extract()\r\n",
        "\r\n",
        "        # Crawling through each of the jobs to fetch corresponding salary and other information\r\n",
        "        for link in job_links[:1]:\r\n",
        "            yield response.follow(url = 'https://www.payscale.com' + link, callback = self.parse_salary)\r\n",
        "\r\n",
        "\r\n",
        "    def parse_salary(self, response):\r\n",
        "\r\n",
        "        # Extract the job title\r\n",
        "        job_title = response.url[41:len(response.url)-7]\r\n",
        "\r\n",
        "        # Extract the average salary\r\n",
        "        avg_salary = response.css('span.paycharts__value::text').extract_first()\r\n",
        "\r\n",
        "        # Extract base salary, bonus, profit sharing, commission and total pay \r\n",
        "        salary_component_title_list = response.css('div.tablerow__title::text').extract()\r\n",
        "        salary_component_value_list = response.css('div.tablerow__value::text').extract()\r\n",
        "\r\n",
        "        # Extract pay by experience percent level\r\n",
        "        pay_percent_component_title_list = response.css('div.delta-table.pay-by-experience__delta-chart > div.entry > div.name > a::text').extract()\r\n",
        "        pay_percent_sign_list = response.css('div.delta-table.pay-by-experience__delta-chart > div.entry > div.arrow').xpath('./span/@class').extract()\r\n",
        "        pay_percent_value_list_without_sign = response.css('div.delta-table.pay-by-experience__delta-chart > div.entry').xpath('./div[@class=\"arrow\"]/text()').extract()\r\n",
        "        pay_percent_component_value_list = list()\r\n",
        "        for sign, value in zip(pay_percent_sign_list, pay_percent_value_list_without_sign):\r\n",
        "            if sign == 'negative':\r\n",
        "                pay_percent_component_value_list.append('-' + value)\r\n",
        "            else:\r\n",
        "                pay_percent_component_value_list.append(value)\r\n",
        "\r\n",
        "        # Extract pay by experience years level\r\n",
        "        pay_by_experience_years_text = response.xpath('//p[@class=\"expandable__paragraph\"]/text()').extract_first()\r\n",
        "        pay_by_experience_years_component_title_list = list()\r\n",
        "        pay_by_experience_years_component_value_list = list()\r\n",
        "        \r\n",
        "        temp_numbers_list = list()\r\n",
        "        for text in pay_by_experience_years_text.split():\r\n",
        "            if any(char.isdigit() for char in text):\r\n",
        "                temp_numbers_list.append(text)\r\n",
        "        \r\n",
        "        for i in range(0, len(temp_numbers_list) - 2, 3):\r\n",
        "            pay_by_experience_years_component_title_list.append(temp_numbers_list[i])\r\n",
        "            pay_by_experience_years_component_value_list.append(temp_numbers_list[i + 1])\r\n",
        "\r\n",
        "        # Extract Gender Breakdown Percentage\r\n",
        "        gender_component_title_list = response.css('div.gender__label::text').extract()\r\n",
        "        temp_gender_component_value_list = response.css('div.gender__value::text').extract()\r\n",
        "        gender_component_value_list = list()\r\n",
        "        for i in range(0, len(temp_gender_component_value_list), 2):\r\n",
        "            gender_component_value_list.append(temp_gender_component_value_list[i])\r\n",
        "        \r\n",
        "        # Extract Health benefits item name\r\n",
        "        health_benefits_component_title_list = response.css('div.healthbenefits__item-name::text').extract()\r\n",
        "        temp_health_benefits_component_value_list = response.css('h2.healthbenefits__item-value::text').extract()\r\n",
        "        health_benefits_component_value_list = list()\r\n",
        "        for i in range(0, len(temp_health_benefits_component_value_list), 2):\r\n",
        "            health_benefits_component_value_list.append(temp_health_benefits_component_value_list[i])\r\n",
        "\r\n",
        "        # Popular Skills\r\n",
        "        popular_skills_component_title_list = response.css('a.popular-skill__name::text').extract()\r\n",
        "        popular_skills_component_value_list = response.css('div.popular-skill__pay::text').extract()\r\n",
        "\r\n",
        "        # Extract Skills that affect salary\r\n",
        "        affect_skills_component_title_list = response.css('div.pay-diff-by-dimension div.name > a::text').extract()\r\n",
        "        temp_affect_skills_component_value_list = response.css('div.pay-diff-by-dimension div.arrow::text').extract()\r\n",
        "        temp_sign = response.css('div.pay-diff-by-dimension div.arrow').xpath('./span/@class').extract()\r\n",
        "        affect_skills_component_value_list = list()\r\n",
        "        for sign, value in zip(temp_sign, temp_affect_skills_component_value_list):\r\n",
        "            if sign == 'negative':\r\n",
        "                affect_skills_component_value_list.append('-' + value)\r\n",
        "            else:\r\n",
        "                affect_skills_component_value_list.append(value)\r\n",
        "\r\n",
        "        # Extract Career Paths\r\n",
        "        career_path_component_title_list = response.css('div.tree-chart__leaf_container').xpath('./*[contains(@class,\"tree-chart__leaf\")]/text()').extract()\r\n",
        "\r\n",
        "        # Extract pay difference by location\r\n",
        "        location_component_title_list = response.css('div.carousel.related-carousel.pay-diff-related-carousel div.related-content-card__title::text').extract()\r\n",
        "        temp_location_component_value_list = response.css('div.carousel.related-carousel.pay-diff-related-carousel div.related-content-card__subtitle::text').extract()\r\n",
        "        location_component_value_list = list()\r\n",
        "        for value in temp_location_component_value_list:\r\n",
        "            if value[0] == '▼':\r\n",
        "                location_component_value_list.append('-' + value[2:])\r\n",
        "            else:\r\n",
        "                location_component_value_list.append(value[2:])\r\n",
        "        \r\n",
        "        # Extract popular employers\r\n",
        "        employers_component_title_list = response.css('div.carousel.related-carousel.popular-employers-related-carousel div.related-content-card__title::text').extract()\r\n",
        "        employers_component_value_list = response.css('div.carousel.related-carousel.popular-employers-related-carousel div.related-content-card__subtitle::text').extract()\r\n",
        "        \r\n",
        "        # Extract Related Job Salaries\r\n",
        "        related_job_component_title_list = response.css('span.relatedentity__card-title::text').extract()\r\n",
        "        related_job_component_value_list = response.css('p.relatedentity__card-detail::text').extract()\r\n",
        "\r\n",
        "        # Updating all the values in the dictionary\r\n",
        "        salary_dict['job_title'] = job_title\r\n",
        "        salary_dict['avg_salary'] = avg_salary\r\n",
        "        salary_dict['salary_component'] = salary_component_title_list\r\n",
        "        for label, value in zip(salary_component_title_list, salary_component_value_list):\r\n",
        "            salary_dict[label] = value\r\n",
        "        salary_dict['pay_by_experience_percent'] = pay_percent_component_title_list\r\n",
        "        for label, value in zip(pay_percent_component_title_list, pay_percent_component_value_list):\r\n",
        "            salary_dict[label] = value\r\n",
        "        salary_dict['pay_by_experience_years'] =  pay_by_experience_years_component_title_list\r\n",
        "        for label, value in zip( pay_by_experience_years_component_title_list,  pay_by_experience_years_component_value_list):\r\n",
        "            salary_dict[label] = value\r\n",
        "        salary_dict['gender_component'] =  gender_component_title_list\r\n",
        "        for label, value in zip( gender_component_title_list,  gender_component_value_list):\r\n",
        "            salary_dict[label] = value\r\n",
        "        salary_dict['health_benefits_componentt'] =  health_benefits_component_title_list\r\n",
        "        for label, value in zip( health_benefits_component_title_list,  health_benefits_component_value_list):\r\n",
        "            salary_dict[label] = value\r\n",
        "        salary_dict['popular_skills_component'] =  popular_skills_component_title_list\r\n",
        "        for label, value in zip( popular_skills_component_title_list,  popular_skills_component_value_list):\r\n",
        "            salary_dict[label] = value\r\n",
        "        salary_dict['affect_skills_component'] =  affect_skills_component_title_list\r\n",
        "        for label, value in zip( affect_skills_component_title_list,  affect_skills_component_value_list):\r\n",
        "            salary_dict[label] = value\r\n",
        "        salary_dict['career_path_component'] = career_path_component_title_list\r\n",
        "        salary_dict['location_component'] =  location_component_title_list\r\n",
        "        for label, value in zip( location_component_title_list, location_component_value_list):\r\n",
        "            salary_dict[label] = value\r\n",
        "        salary_dict['employers_component'] =  employers_component_title_list\r\n",
        "        for label, value in zip(employers_component_title_list,  employers_component_value_list):\r\n",
        "            salary_dict[label] = value\r\n",
        "        salary_dict['related_job_component'] =  related_job_component_title_list\r\n",
        "        for label, value in zip(related_job_component_title_list, related_job_component_value_list):\r\n",
        "            salary_dict[label] = value\r\n",
        "        \r\n",
        "        # # Storing the values in json file\r\n",
        "        # df = pd.DataFrame(salary_dict)\r\n",
        "        # df.to_csv('' + job_title + '.csv')\r\n",
        "        print(salary_dict)\r\n",
        "\r\n",
        "salary_dict = dict()\r\n",
        "\r\n",
        "process = CrawlerProcess()\r\n",
        "process.crawl(Payscale_Spider)\r\n",
        "process.start()"
      ],
      "execution_count": 4,
      "outputs": [
        {
          "output_type": "stream",
          "text": [
            "2021-01-22 14:45:08 [scrapy.utils.log] INFO: Scrapy 2.4.1 started (bot: scrapybot)\n",
            "2021-01-22 14:45:08 [scrapy.utils.log] INFO: Versions: lxml 4.2.6.0, libxml2 2.9.8, cssselect 1.1.0, parsel 1.6.0, w3lib 1.22.0, Twisted 20.3.0, Python 3.6.9 (default, Oct  8 2020, 12:12:24) - [GCC 8.4.0], pyOpenSSL 20.0.1 (OpenSSL 1.1.1i  8 Dec 2020), cryptography 3.3.1, Platform Linux-4.19.112+-x86_64-with-Ubuntu-18.04-bionic\n",
            "2021-01-22 14:45:08 [scrapy.utils.log] DEBUG: Using reactor: twisted.internet.epollreactor.EPollReactor\n",
            "2021-01-22 14:45:08 [scrapy.crawler] INFO: Overridden settings:\n",
            "{}\n",
            "2021-01-22 14:45:08 [scrapy.extensions.telnet] INFO: Telnet Password: e069fdc326e91dbe\n",
            "2021-01-22 14:45:08 [scrapy.middleware] INFO: Enabled extensions:\n",
            "['scrapy.extensions.corestats.CoreStats',\n",
            " 'scrapy.extensions.telnet.TelnetConsole',\n",
            " 'scrapy.extensions.memusage.MemoryUsage',\n",
            " 'scrapy.extensions.logstats.LogStats']\n",
            "2021-01-22 14:45:08 [scrapy.middleware] INFO: Enabled downloader middlewares:\n",
            "['scrapy.downloadermiddlewares.httpauth.HttpAuthMiddleware',\n",
            " 'scrapy.downloadermiddlewares.downloadtimeout.DownloadTimeoutMiddleware',\n",
            " 'scrapy.downloadermiddlewares.defaultheaders.DefaultHeadersMiddleware',\n",
            " 'scrapy.downloadermiddlewares.useragent.UserAgentMiddleware',\n",
            " 'scrapy.downloadermiddlewares.retry.RetryMiddleware',\n",
            " 'scrapy.downloadermiddlewares.redirect.MetaRefreshMiddleware',\n",
            " 'scrapy.downloadermiddlewares.httpcompression.HttpCompressionMiddleware',\n",
            " 'scrapy.downloadermiddlewares.redirect.RedirectMiddleware',\n",
            " 'scrapy.downloadermiddlewares.cookies.CookiesMiddleware',\n",
            " 'scrapy.downloadermiddlewares.httpproxy.HttpProxyMiddleware',\n",
            " 'scrapy.downloadermiddlewares.stats.DownloaderStats']\n",
            "2021-01-22 14:45:08 [scrapy.middleware] INFO: Enabled spider middlewares:\n",
            "['scrapy.spidermiddlewares.httperror.HttpErrorMiddleware',\n",
            " 'scrapy.spidermiddlewares.offsite.OffsiteMiddleware',\n",
            " 'scrapy.spidermiddlewares.referer.RefererMiddleware',\n",
            " 'scrapy.spidermiddlewares.urllength.UrlLengthMiddleware',\n",
            " 'scrapy.spidermiddlewares.depth.DepthMiddleware']\n",
            "2021-01-22 14:45:08 [scrapy.middleware] INFO: Enabled item pipelines:\n",
            "[]\n",
            "2021-01-22 14:45:08 [scrapy.core.engine] INFO: Spider opened\n",
            "2021-01-22 14:45:08 [scrapy.extensions.logstats] INFO: Crawled 0 pages (at 0 pages/min), scraped 0 items (at 0 items/min)\n",
            "2021-01-22 14:45:08 [scrapy.extensions.telnet] INFO: Telnet console listening on 127.0.0.1:6023\n",
            "2021-01-22 14:45:09 [scrapy.core.engine] DEBUG: Crawled (200) <GET https://www.payscale.com/research/IN/Job> (referer: None)\n",
            "2021-01-22 14:45:10 [scrapy.core.engine] DEBUG: Crawled (200) <GET https://www.payscale.com/research/IN/Job/Accounting-and-Finance> (referer: https://www.payscale.com/research/IN/Job)\n",
            "2021-01-22 14:45:10 [scrapy.core.engine] DEBUG: Crawled (200) <GET https://www.payscale.com/research/IN/Job=Accountant/Salary> (referer: https://www.payscale.com/research/IN/Job/Accounting-and-Finance)\n",
            "2021-01-22 14:45:10 [scrapy.core.engine] INFO: Closing spider (finished)\n",
            "2021-01-22 14:45:10 [scrapy.statscollectors] INFO: Dumping Scrapy stats:\n",
            "{'downloader/request_bytes': 919,\n",
            " 'downloader/request_count': 3,\n",
            " 'downloader/request_method_count/GET': 3,\n",
            " 'downloader/response_bytes': 61938,\n",
            " 'downloader/response_count': 3,\n",
            " 'downloader/response_status_count/200': 3,\n",
            " 'elapsed_time_seconds': 1.609789,\n",
            " 'finish_reason': 'finished',\n",
            " 'finish_time': datetime.datetime(2021, 1, 22, 14, 45, 10, 568198),\n",
            " 'log_count/DEBUG': 3,\n",
            " 'log_count/INFO': 10,\n",
            " 'memusage/max': 139640832,\n",
            " 'memusage/startup': 139640832,\n",
            " 'request_depth_max': 2,\n",
            " 'response_received_count': 3,\n",
            " 'scheduler/dequeued': 3,\n",
            " 'scheduler/dequeued/memory': 3,\n",
            " 'scheduler/enqueued': 3,\n",
            " 'scheduler/enqueued/memory': 3,\n",
            " 'start_time': datetime.datetime(2021, 1, 22, 14, 45, 8, 958409)}\n",
            "2021-01-22 14:45:10 [scrapy.core.engine] INFO: Spider closed (finished)\n"
          ],
          "name": "stderr"
        },
        {
          "output_type": "stream",
          "text": [
            "{'job_title': 'Accountant', 'avg_salary': '₹249,369', 'salary_component': ['Base Salary', 'Bonus', 'Profit Sharing', 'Commission', 'Total Pay'], 'Base Salary': '₹123k - ₹507k', 'Bonus': '₹5k - ₹59k', 'Profit Sharing': '₹36 - ₹197k', 'Commission': '₹3k - ₹102k', 'Total Pay': '₹129k - ₹584k', 'pay_by_experience_percent': ['Entry Level', 'Early Career', 'Mid Career', 'Late Career', 'Experienced'], 'Entry Level': '-20%', 'Early Career': '-7%', 'Mid Career': '19%', 'Late Career': '43%', 'Experienced': '62%', 'pay_by_experience_years': ['1', '1-4'], '1': '₹198,831', '1-4': '₹230,933', 'gender_component': ['Male', 'Female', 'Prefer to self-define'], 'Male': '78.7', 'Female': '21.2', 'Prefer to self-define': '0.1', 'health_benefits_componentt': ['Medical', 'Dental', 'Vision', 'None'], 'Medical': '34', 'Dental': '3', 'Vision': '3', 'None': '66', 'popular_skills_component': [], 'affect_skills_component': [], 'career_path_component': [], 'location_component': [], 'employers_component': [], 'related_job_component': []}\n"
          ],
          "name": "stdout"
        }
      ]
    },
    {
      "cell_type": "code",
      "metadata": {
        "id": "85iFBAAAbyIi"
      },
      "source": [
        "# ValueError: arrays must all be same length\r\n",
        "# {'job_title': 'Accountant', 'avg_salary': '₹249,369', 'salary_component': ['Base Salary', 'Bonus', 'Profit Sharing', 'Commission', 'Total Pay'], 'Base Salary': '₹123k - ₹507k', 'Bonus': '₹5k - ₹59k', 'Profit Sharing': '₹36 - ₹197k', 'Commission': '₹3k - ₹102k', 'Total Pay': '₹129k - ₹584k', 'pay_by_experience_percent': ['Entry Level', 'Early Career', 'Mid Career', 'Late Career', 'Experienced'], 'Entry Level': '-20%', 'Early Career': '-7%', 'Mid Career': '19%', 'Late Career': '43%', 'Experienced': '62%', 'pay_by_experience_years': ['1', '1-4'], '1': '₹198,831', '1-4': '₹230,933', 'gender_component': ['Male', 'Female', 'Prefer to self-define'], 'Male': '78.7', 'Female': '21.2', 'Prefer to self-define': '0.1', 'health_benefits_componentt': ['Medical', 'Dental', 'Vision', 'None'], 'Medical': '34', 'Dental': '3', 'Vision': '3', 'None': '66', 'popular_skills_component': [], 'affect_skills_component': [], 'career_path_component': [], 'location_component': [], 'employers_component': [], 'related_job_component': []}\r\n",
        "# <a class=\"popular-skill__name\" href=\"/research/IN/Job=Accountant/Salary/ebd17157/General-Ledger-Accounting\">General Ledger Accounting</a>"
      ],
      "execution_count": 5,
      "outputs": []
    },
    {
      "cell_type": "code",
      "metadata": {
        "id": "atbhUSgleJ1L"
      },
      "source": [
        "from scrapy import Selector"
      ],
      "execution_count": 6,
      "outputs": []
    },
    {
      "cell_type": "code",
      "metadata": {
        "colab": {
          "base_uri": "https://localhost:8080/"
        },
        "id": "m7h36ycpdm67",
        "outputId": "63c499a4-6bcf-47e5-e4c1-cc427314094a"
      },
      "source": [
        "html = '<div class=\"popular-skill__container\"><div class=\"popular-skill\"><div class=\"popular-skill__col\"><a class=\"popular-skill__name\" href=\"/research/IN/Job=Software_Engineer/Salary/e46947ad/Java\">Java</a><div class=\"popular-skill__pay\">₹580,974</div></div><div class=\"popular-skill__col\"><div class=\"dot-chart \" style=\"width: 150px;\"><div class=\"dot-chart__dot dot-chart__dot--filled\"></div><div class=\"dot-chart__dot dot-chart__dot--filled\"></div><div class=\"dot-chart__dot dot-chart__dot--filled\"></div><div class=\"dot-chart__dot dot-chart__dot--filled\"></div><div class=\"dot-chart__dot dot-chart__dot--filled\"></div></div><div class=\"popular-skill__count\">6,259 responses</div></div></div><div class=\"popular-skill\"><div class=\"popular-skill__col\"><a class=\"popular-skill__name\" href=\"/research/IN/Job=Software_Engineer/Salary/7bc0c77a/SQL\">SQL</a><div class=\"popular-skill__pay\">₹500,373</div></div><div class=\"popular-skill__col\"><div class=\"dot-chart \" style=\"width: 150px;\"><div class=\"dot-chart__dot dot-chart__dot--filled\"></div><div class=\"dot-chart__dot dot-chart__dot--filled\"></div><div class=\"dot-chart__dot dot-chart__dot--filled\"></div><div class=\"dot-chart__dot dot-chart__dot--filled\"></div><div class=\"dot-chart__dot dot-chart__dot--filled\"></div></div><div class=\"popular-skill__count\">5,157 responses</div></div></div><div class=\"popular-skill\"><div class=\"popular-skill__col\"><a class=\"popular-skill__name\" href=\"/research/IN/Job=Software_Engineer/Salary/b04ea629/JavaScript\">JavaScript</a><div class=\"popular-skill__pay\">₹554,193</div></div><div class=\"popular-skill__col\"><div class=\"dot-chart \" style=\"width: 150px;\"><div class=\"dot-chart__dot dot-chart__dot--filled\"></div><div class=\"dot-chart__dot dot-chart__dot--filled\"></div><div class=\"dot-chart__dot dot-chart__dot--filled\"></div><div class=\"dot-chart__dot dot-chart__dot--filled\"></div><div class=\"dot-chart__dot \"></div></div><div class=\"popular-skill__count\">4,697 responses</div></div></div><div class=\"popular-skill\"><div class=\"popular-skill__col\"><a class=\"popular-skill__name\" href=\"/research/IN/Job=Software_Engineer/Salary/70dd6d8e/C%23-Programming-Language\">C# Programming Language</a><div class=\"popular-skill__pay\">₹508,819</div></div><div class=\"popular-skill__col\"><div class=\"dot-chart \" style=\"width: 150px;\"><div class=\"dot-chart__dot dot-chart__dot--filled\"></div><div class=\"dot-chart__dot dot-chart__dot--filled\"></div><div class=\"dot-chart__dot dot-chart__dot--filled\"></div><div class=\"dot-chart__dot \"></div><div class=\"dot-chart__dot \"></div></div><div class=\"popular-skill__count\">3,057 responses</div></div></div><div class=\"popular-skill\"><div class=\"popular-skill__col\"><a class=\"popular-skill__name\" href=\"/research/IN/Job=Software_Engineer/Salary/53eb09e3/Python\">Python</a><div class=\"popular-skill__pay\">₹636,503</div></div><div class=\"popular-skill__col\"><div class=\"dot-chart \" style=\"width: 150px;\"><div class=\"dot-chart__dot dot-chart__dot--filled\"></div><div class=\"dot-chart__dot dot-chart__dot--filled\"></div><div class=\"dot-chart__dot dot-chart__dot--filled\"></div><div class=\"dot-chart__dot \"></div><div class=\"dot-chart__dot \"></div></div><div class=\"popular-skill__count\">2,811 responses</div></div></div></div>'\r\n",
        "sel = Selector(text = html)\r\n",
        "\r\n",
        "print(sel.css('a.popular-skill__name::text').extract())"
      ],
      "execution_count": 7,
      "outputs": [
        {
          "output_type": "stream",
          "text": [
            "['Java', 'SQL', 'JavaScript', 'C# Programming Language', 'Python']\n"
          ],
          "name": "stdout"
        }
      ]
    }
  ]
}